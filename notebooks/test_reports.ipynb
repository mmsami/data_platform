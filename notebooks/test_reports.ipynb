{
 "cells": [
  {
   "cell_type": "code",
   "execution_count": 1,
   "metadata": {},
   "outputs": [
    {
     "name": "stdout",
     "output_type": "stream",
     "text": [
      "Generating Daily Report...\n",
      "\n",
      "Daily Report Summary:\n",
      "Date: 2025-05-06 20:10:27.343159\n",
      "\n",
      "Price Summary:\n",
      "High: 84060.04670544961\n",
      "Low: 82423.32078755551\n",
      "Average: 83250.12190573972\n",
      "\n",
      "Significant Moves:\n",
      "\n",
      "Alerts:\n",
      "\n",
      "Generating Weekly Report...\n",
      "\n",
      "Weekly Report Summary:\n",
      "Start Price: 83638.03410531904\n",
      "End Price: 83199.85721225584\n",
      "Weekly Change: -0.52%\n",
      "\n",
      "Major Headlines:\n"
     ]
    }
   ],
   "source": [
    "import sys\n",
    "from pathlib import Path\n",
    "\n",
    "project_root = str(Path.cwd().parent)\n",
    "sys.path.append(project_root)\n",
    "\n",
    "from src.reports.report_generator import ReportGenerator\n",
    "from src.analysis.market_analyzer import MarketAnalyzer\n",
    "from src.storage.database import DatabaseManager\n",
    "from datetime import datetime\n",
    "\n",
    "# Initialize components\n",
    "db = DatabaseManager()\n",
    "\n",
    "with db.get_session() as session:\n",
    "    # Create analyzer and report generator\n",
    "    analyzer = MarketAnalyzer(session)\n",
    "    report_gen = ReportGenerator(analyzer)\n",
    "\n",
    "    # 1. Generate Daily Report\n",
    "    print(\"Generating Daily Report...\")\n",
    "    daily_report = report_gen.generate_daily_report()\n",
    "    \n",
    "    print(\"\\nDaily Report Summary:\")\n",
    "    print(f\"Date: {daily_report.date}\")\n",
    "    print(\"\\nPrice Summary:\")\n",
    "    print(f\"High: {daily_report.price_summary['high']}\")\n",
    "    print(f\"Low: {daily_report.price_summary['low']}\")\n",
    "    print(f\"Average: {daily_report.price_summary['average']}\")\n",
    "    \n",
    "    print(\"\\nSignificant Moves:\")\n",
    "    for move in daily_report.significant_moves:\n",
    "        print(f\"Time: {move['timestamp']}\")\n",
    "        print(f\"Change: {move['price_change']}%\")\n",
    "        print(f\"Related News: {move['news']}\")\n",
    "    \n",
    "    print(\"\\nAlerts:\")\n",
    "    for alert in daily_report.alerts:\n",
    "        print(f\"- {alert}\")\n",
    "    \n",
    "    # 2. Generate Weekly Report\n",
    "    print(\"\\nGenerating Weekly Report...\")\n",
    "    weekly_report = report_gen.generate_weekly_report()\n",
    "    \n",
    "    print(\"\\nWeekly Report Summary:\")\n",
    "    print(f\"Start Price: {weekly_report.price_summary['start_price']}\")\n",
    "    print(f\"End Price: {weekly_report.price_summary['end_price']}\")\n",
    "    print(f\"Weekly Change: {weekly_report.price_summary['change_percentage']:.2f}%\")\n",
    "    \n",
    "    print(\"\\nMajor Headlines:\")\n",
    "    for headline in weekly_report.news_summary['major_headlines']:\n",
    "        print(f\"- {headline}\")"
   ]
  }
 ],
 "metadata": {
  "kernelspec": {
   "display_name": "data_platform",
   "language": "python",
   "name": "python3"
  },
  "language_info": {
   "codemirror_mode": {
    "name": "ipython",
    "version": 3
   },
   "file_extension": ".py",
   "mimetype": "text/x-python",
   "name": "python",
   "nbconvert_exporter": "python",
   "pygments_lexer": "ipython3",
   "version": "3.13.3"
  }
 },
 "nbformat": 4,
 "nbformat_minor": 2
}
