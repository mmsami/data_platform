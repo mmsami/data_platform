{
 "cells": [
  {
   "cell_type": "markdown",
   "metadata": {},
   "source": [
    "# notebooks/01_initial_test.ipynb"
   ]
  },
  {
   "cell_type": "code",
   "execution_count": 1,
   "metadata": {},
   "outputs": [
    {
     "name": "stdout",
     "output_type": "stream",
     "text": [
      "DataRecord(source='coingecko', data={'timestamp': datetime.datetime(2025, 4, 7, 10, 1, 14, 412000, tzinfo=datetime.timezone.utc), 'price': 69541.09761565659}, timestamp=datetime.datetime(2025, 4, 21, 9, 17, 12, 877132, tzinfo=datetime.timezone.utc))\n",
      "DataRecord(source='coingecko', data={'timestamp': datetime.datetime(2025, 4, 7, 11, 4, 3, 946000, tzinfo=datetime.timezone.utc), 'price': 70191.39723699349}, timestamp=datetime.datetime(2025, 4, 21, 9, 17, 12, 877137, tzinfo=datetime.timezone.utc))\n",
      "DataRecord(source='coingecko', data={'timestamp': datetime.datetime(2025, 4, 7, 12, 4, 51, 597000, tzinfo=datetime.timezone.utc), 'price': 70014.8982165692}, timestamp=datetime.datetime(2025, 4, 21, 9, 17, 12, 877139, tzinfo=datetime.timezone.utc))\n",
      "DataRecord(source='coingecko', data={'timestamp': datetime.datetime(2025, 4, 7, 13, 4, 57, 142000, tzinfo=datetime.timezone.utc), 'price': 70347.25219897591}, timestamp=datetime.datetime(2025, 4, 21, 9, 17, 12, 877141, tzinfo=datetime.timezone.utc))\n",
      "DataRecord(source='coingecko', data={'timestamp': datetime.datetime(2025, 4, 7, 14, 2, 14, 119000, tzinfo=datetime.timezone.utc), 'price': 71631.0849475556}, timestamp=datetime.datetime(2025, 4, 21, 9, 17, 12, 877142, tzinfo=datetime.timezone.utc))\n"
     ]
    }
   ],
   "source": [
    "import sys\n",
    "from pathlib import Path\n",
    "\n",
    "project_root = str(Path.cwd().parent)\n",
    "sys.path.append(project_root)\n",
    "\n",
    "import asyncio\n",
    "from src.collectors.btc_collector import CoinGeckoCollector\n",
    "\n",
    "# Define an async function to test\n",
    "async def test_collector():\n",
    "    # Instantiate the collector\n",
    "    collector = CoinGeckoCollector()\n",
    "    records = await collector.collectBTC(days=14) \n",
    "    for record in records[:5]:\n",
    "        print(record)\n",
    "\n",
    "# Run the test\n",
    "# asyncio.run(test_collector())\n",
    "await test_collector()"
   ]
  }
 ],
 "metadata": {
  "kernelspec": {
   "display_name": "data_platform",
   "language": "python",
   "name": "python3"
  },
  "language_info": {
   "codemirror_mode": {
    "name": "ipython",
    "version": 3
   },
   "file_extension": ".py",
   "mimetype": "text/x-python",
   "name": "python",
   "nbconvert_exporter": "python",
   "pygments_lexer": "ipython3",
   "version": "3.13.3"
  }
 },
 "nbformat": 4,
 "nbformat_minor": 2
}
